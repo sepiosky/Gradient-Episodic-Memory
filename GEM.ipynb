{
  "cells": [
    {
      "cell_type": "markdown",
      "metadata": {
        "id": "vQ9vc_NWigTE"
      },
      "source": [
        "# CE-40959: Advanced Machine Learning\n",
        "## HW5 - Continual Learning (90 points)\n",
        "\n",
        "#### Name: Sepehr Ghobadi\n",
        "#### Student No: 400211008"
      ]
    },
    {
      "cell_type": "markdown",
      "metadata": {
        "id": "5r9Y8-G0iozQ"
      },
      "source": [
        "In this notebook, you are going to see the `catastrophic forgetting` phenomenon in continual learning scenarios and then alleviate this problem by implementing [Gradient Episodic Memory(GEM)](https://arxiv.org/abs/1706.08840) on the `MNIST` dataset.\n",
        "\n",
        "\n",
        "Please write your code in specified sections and do not change anything else. If you have a question regarding this homework, please ask it on the Quera.\n",
        "\n",
        "Also, it is recommended to use Google Colab to do this homework. You can connect to your drive using the code below:"
      ]
    },
    {
      "cell_type": "code",
      "execution_count": 5,
      "metadata": {
        "id": "nGnkMrr6iCeo",
        "colab": {
          "base_uri": "https://localhost:8080/"
        },
        "outputId": "2ba1c8a3-b3dd-466a-aa8e-84544c7552a8"
      },
      "outputs": [
        {
          "output_type": "stream",
          "name": "stdout",
          "text": [
            "Drive already mounted at /content/drive; to attempt to forcibly remount, call drive.mount(\"/content/drive\", force_remount=True).\n",
            "/content/drive/MyDrive/AdvancedML/GEM\n"
          ]
        }
      ],
      "source": [
        "from google.colab import drive\n",
        "drive.mount('/content/drive')\n",
        "DRIVE_PATH = \"/content/drive/MyDrive/AdvancedML/GEM\"\n",
        "%cd $DRIVE_PATH"
      ]
    },
    {
      "cell_type": "markdown",
      "metadata": {
        "id": "8oNFX6Z9tVNB"
      },
      "source": [
        "## Import Required libraries"
      ]
    },
    {
      "cell_type": "code",
      "execution_count": 6,
      "metadata": {
        "id": "aqgGYYp71AGL",
        "colab": {
          "base_uri": "https://localhost:8080/"
        },
        "outputId": "db8dc451-4c6d-4a5d-9b4c-26a8559f736c"
      },
      "outputs": [
        {
          "output_type": "stream",
          "name": "stdout",
          "text": [
            "Looking in indexes: https://pypi.org/simple, https://us-python.pkg.dev/colab-wheels/public/simple/\n",
            "Collecting quadprog\n",
            "  Downloading quadprog-0.1.11.tar.gz (121 kB)\n",
            "\u001b[K     |████████████████████████████████| 121 kB 7.2 MB/s \n",
            "\u001b[?25h  Installing build dependencies ... \u001b[?25l\u001b[?25hdone\n",
            "  Getting requirements to build wheel ... \u001b[?25l\u001b[?25hdone\n",
            "    Preparing wheel metadata ... \u001b[?25l\u001b[?25hdone\n",
            "Requirement already satisfied: numpy in /usr/local/lib/python3.7/dist-packages (from quadprog) (1.21.6)\n",
            "Building wheels for collected packages: quadprog\n",
            "  Building wheel for quadprog (PEP 517) ... \u001b[?25l\u001b[?25hdone\n",
            "  Created wheel for quadprog: filename=quadprog-0.1.11-cp37-cp37m-linux_x86_64.whl size=290742 sha256=582a8c798aaebd4afe919ada47b133eb7a902252c60be86137ff4b820b1a6b0b\n",
            "  Stored in directory: /root/.cache/pip/wheels/4a/4e/d7/41034ea11aeef1266df3cae546116cb6094e955c41ae3e2589\n",
            "Successfully built quadprog\n",
            "Installing collected packages: quadprog\n",
            "Successfully installed quadprog-0.1.11\n"
          ]
        }
      ],
      "source": [
        "!pip install quadprog"
      ]
    },
    {
      "cell_type": "code",
      "execution_count": 7,
      "metadata": {
        "id": "m_9dNn8miytX"
      },
      "outputs": [],
      "source": [
        "import numpy as np\n",
        "import os\n",
        "import matplotlib.pyplot as plt\n",
        "import torch\n",
        "import torchvision\n",
        "import random\n",
        "import torch.nn as nn\n",
        "import math\n",
        "import quadprog\n",
        "import pickle\n",
        "from tqdm import tqdm\n",
        "\n",
        "import torch.nn.functional as F\n",
        "import torchvision.transforms as transforms\n",
        "import torch.optim as optim\n",
        "import torch.utils.data as data"
      ]
    },
    {
      "cell_type": "markdown",
      "metadata": {
        "id": "9Ti3G7U5taUu"
      },
      "source": [
        "## Learning parameters"
      ]
    },
    {
      "cell_type": "code",
      "execution_count": 8,
      "metadata": {
        "id": "17H45PaUstUI"
      },
      "outputs": [],
      "source": [
        "num_classes = 10\n",
        "class_per_task = 2\n",
        "number_of_data_per_class = 3000\n",
        "num_tasks = int(num_classes // class_per_task)\n",
        "batch_size = 10 #10\n",
        "memory_size_per_task = 10 #10"
      ]
    },
    {
      "cell_type": "markdown",
      "metadata": {
        "id": "R0sdW7F8tcl1"
      },
      "source": [
        "## Prepare dataset (5 points)"
      ]
    },
    {
      "cell_type": "markdown",
      "metadata": {
        "id": "C-VMIe8CzWmI"
      },
      "source": [
        "To compare different benchmarks fairly, define all of your dataloaders for each task and save them in an array."
      ]
    },
    {
      "cell_type": "code",
      "execution_count": 9,
      "metadata": {
        "id": "b-yOG-uxoaZ4"
      },
      "outputs": [],
      "source": [
        "def get_all_dataloaders(num_classes, class_per_task, number_of_data_per_class, num_tasks, batch_size):\n",
        "    #################################################################################\n",
        "    #                  COMPLETE THE FOLLOWING SECTION (2.5 points)                   #\n",
        "    #################################################################################\n",
        "    # complete the function to get all dataloaders for all tasks\n",
        "    mnist_train = torchvision.datasets.MNIST(DRIVE_PATH+'/mnist', train=True, download=True)\n",
        "    if num_tasks*class_per_task != num_classes:\n",
        "        print(\"invalid mnist split!\")\n",
        "        raise NotImplemented\n",
        "    classes, is_chosen = range(num_classes), [False]*num_classes\n",
        "    dataloaders = []\n",
        "    tasks = []\n",
        "\n",
        "    #random tasks\n",
        "\n",
        "    for t in range(num_tasks):\n",
        "        task_classes = np.random.choice([c for c in classes if not is_chosen[c]], size=class_per_task, replace=False)\n",
        "        tasks.append(task_classes)\n",
        "        for c in task_classes:\n",
        "            is_chosen[c]=True\n",
        "        # x_tr = torch.cat([mnist_train.train_data[mnist_train.train_labels==c][:number_of_data_per_class] for c in task_classes])\n",
        "        # y_tr = torch.cat([mnist_train.train_labels[mnist_train.train_labels==c][:number_of_data_per_class] for c in task_classes])\n",
        "\n",
        "        x_tr, y_tr = [], []\n",
        "        for c in task_classes:\n",
        "            x_c, y_c = mnist_train.data[mnist_train.targets==c], mnist_train.targets[mnist_train.targets==c]\n",
        "            indices = np.random.choice(range(len(x_c)), number_of_data_per_class, replace=False)\n",
        "            x_tr.append(x_c[indices,:,:])\n",
        "            y_tr.append(y_c[indices])\n",
        "        x_tr, y_tr = torch.cat(x_tr), torch.cat(y_tr)\n",
        "        \n",
        "        dataloaders.append( data.DataLoader(data.TensorDataset(x_tr, y_tr), batch_size=batch_size, shuffle=True) )\n",
        "\n",
        "    return tasks, dataloaders\n",
        "\n",
        "    #################################################################################\n",
        "\n",
        "\n",
        "def get_testloader(tasks, batch_size):\n",
        "    #################################################################################\n",
        "    #                  COMPLETE THE FOLLOWING SECTION (2.5 points)                   #\n",
        "    #################################################################################\n",
        "    # complete the function to get MNIST test dataloader\n",
        "    mnist_test = torchvision.datasets.MNIST(DRIVE_PATH+'/mnist', train=False, download=True)\n",
        "    dataloaders = []\n",
        "    for task_classes in tasks:\n",
        "        x_tr = torch.cat([mnist_test.data[mnist_test.targets==c] for c in task_classes])\n",
        "        y_tr = torch.cat([mnist_test.targets[mnist_test.targets==c] for c in task_classes])\n",
        "        dataloaders.append( data.DataLoader(data.TensorDataset(x_tr, y_tr), batch_size=batch_size, shuffle=True) )\n",
        "    return dataloaders\n",
        "    #################################################################################"
      ]
    },
    {
      "cell_type": "code",
      "source": [
        "tasks, train_dataloaders = get_all_dataloaders(num_classes, class_per_task, number_of_data_per_class, num_tasks, batch_size)\n",
        "test_dataloaders = get_testloader(tasks, batch_size)\n",
        "with open(DRIVE_PATH+\"/dataloaders.pickle\", 'wb') as f:\n",
        "    pickle.dump((tasks, train_dataloaders, test_dataloaders), f)"
      ],
      "metadata": {
        "id": "Gd1PN3nW5HcY"
      },
      "execution_count": 10,
      "outputs": []
    },
    {
      "cell_type": "code",
      "source": [
        "with open(DRIVE_PATH+\"/dataloaders.pickle\", 'rb') as f:\n",
        "    (tasks, train_dataloaders, test_dataloaders) = pickle.load(f)"
      ],
      "metadata": {
        "id": "03o6-76R8vEL"
      },
      "execution_count": 11,
      "outputs": []
    },
    {
      "cell_type": "markdown",
      "metadata": {
        "id": "-1TiyGp71Lyv"
      },
      "source": [
        "## Network (5 points)"
      ]
    },
    {
      "cell_type": "code",
      "execution_count": 12,
      "metadata": {
        "id": "n7CJ3Nrz1Y5t"
      },
      "outputs": [],
      "source": [
        "# define a 3 layer fc with relu activation functions between layers\n",
        "# your fc layers dimensions are as follows:\n",
        "# 784, 150, 150, 10\n",
        "\n",
        "\n",
        "#################################################################################\n",
        "#                  COMPLETE THE FOLLOWING SECTION (5 points)                   #\n",
        "#################################################################################\n",
        "# define above mentioned model and needed variables\n",
        "\n",
        "class FC(torch.nn.Module):\n",
        "    def __init__(self):\n",
        "        super(FC, self).__init__()\n",
        "        self.layers = nn.Sequential(\n",
        "            nn.Flatten(),\n",
        "            nn.Linear(784, 150),\n",
        "            nn.ReLU(),\n",
        "            nn.Linear(150, 150),\n",
        "            nn.ReLU(),\n",
        "            nn.Linear(150, 10)\n",
        "        )\n",
        "\n",
        "    def forward(self, x):\n",
        "        return self.layers(x)\n",
        "\n",
        "#################################################################################"
      ]
    },
    {
      "cell_type": "markdown",
      "metadata": {
        "id": "Bvv-TsoHtmN-"
      },
      "source": [
        "## Naive Learning (20 points)"
      ]
    },
    {
      "cell_type": "markdown",
      "metadata": {
        "id": "NdZlDuvLtnu-"
      },
      "source": [
        "In this section, you will learn a network in its natural state, without considering any strategy for learning it continually. You will see that learning data in a such fashion causes a phenomenon called catastrophic forgetting.\n",
        "\n",
        "As `GEM` is a task-incremental method, like the paper, evaluate your trained model performance for each task and then report the average accuracy of tasks. In addition to Accuracy metric, report the `backward transfer` and `forward transfer` metric based on the defination in the paper."
      ]
    },
    {
      "cell_type": "code",
      "execution_count": 13,
      "metadata": {
        "id": "HKL6_gTr2xAp",
        "colab": {
          "base_uri": "https://localhost:8080/"
        },
        "outputId": "f90e0b72-903f-4d28-f752-5f12400ab380"
      },
      "outputs": [
        {
          "output_type": "stream",
          "name": "stdout",
          "text": [
            "Task 1 Classes: [5 8]\n",
            "Train:\n"
          ]
        },
        {
          "output_type": "stream",
          "name": "stderr",
          "text": [
            "100%|██████████| 600/600 [00:01<00:00, 567.37it/s]\n"
          ]
        },
        {
          "output_type": "stream",
          "name": "stdout",
          "text": [
            "Accuracy of task 1 after training on task 1:  0.9807486534118652\n",
            "Accuracy of task 2 after training on task 1:  0.0\n",
            "Accuracy of task 3 after training on task 1:  0.0\n",
            "Accuracy of task 4 after training on task 1:  0.0\n",
            "Accuracy of task 5 after training on task 1:  0.0\n",
            "Task 2 Classes: [1 7]\n",
            "Train:\n"
          ]
        },
        {
          "output_type": "stream",
          "name": "stderr",
          "text": [
            "100%|██████████| 600/600 [00:00<00:00, 765.66it/s]\n"
          ]
        },
        {
          "output_type": "stream",
          "name": "stdout",
          "text": [
            "Accuracy of task 1 after training on task 2:  0.025133688002824783\n",
            "Accuracy of task 2 after training on task 2:  0.9898616671562195\n",
            "Accuracy of task 3 after training on task 2:  0.0\n",
            "Accuracy of task 4 after training on task 2:  0.0\n",
            "Accuracy of task 5 after training on task 2:  0.0005025125574320555\n",
            "Task 3 Classes: [4 9]\n",
            "Train:\n"
          ]
        },
        {
          "output_type": "stream",
          "name": "stderr",
          "text": [
            "100%|██████████| 600/600 [00:00<00:00, 727.41it/s]\n"
          ]
        },
        {
          "output_type": "stream",
          "name": "stdout",
          "text": [
            "Accuracy of task 1 after training on task 3:  0.0032085562124848366\n",
            "Accuracy of task 2 after training on task 3:  0.1092165932059288\n",
            "Accuracy of task 3 after training on task 3:  0.9689999222755432\n",
            "Accuracy of task 4 after training on task 3:  0.002010050229728222\n",
            "Accuracy of task 5 after training on task 3:  0.0005025125574320555\n",
            "Task 4 Classes: [3 0]\n",
            "Train:\n"
          ]
        },
        {
          "output_type": "stream",
          "name": "stderr",
          "text": [
            "100%|██████████| 600/600 [00:00<00:00, 770.89it/s]\n"
          ]
        },
        {
          "output_type": "stream",
          "name": "stdout",
          "text": [
            "Accuracy of task 1 after training on task 4:  0.0010695187374949455\n",
            "Accuracy of task 2 after training on task 4:  0.0013824885245412588\n",
            "Accuracy of task 3 after training on task 4:  0.027499999850988388\n",
            "Accuracy of task 4 after training on task 4:  0.9929648637771606\n",
            "Accuracy of task 5 after training on task 4:  0.0\n",
            "Task 5 Classes: [6 2]\n",
            "Train:\n"
          ]
        },
        {
          "output_type": "stream",
          "name": "stderr",
          "text": [
            "100%|██████████| 600/600 [00:00<00:00, 737.07it/s]\n"
          ]
        },
        {
          "output_type": "stream",
          "name": "stdout",
          "text": [
            "Accuracy of task 1 after training on task 5:  0.0010695187374949455\n",
            "Accuracy of task 2 after training on task 5:  0.0013824885245412588\n",
            "Accuracy of task 3 after training on task 5:  0.0020000000949949026\n",
            "Accuracy of task 4 after training on task 5:  0.0663316547870636\n",
            "Accuracy of task 5 after training on task 5:  0.9844220876693726\n",
            "ACC: 0.2110411375761032 \n",
            " BWT: -0.9654479026794434 \n",
            " FWT: -0.11450332403182983\n"
          ]
        }
      ],
      "source": [
        "device = torch.device('cuda' if torch.cuda.is_available() else 'cpu')\n",
        "\n",
        "model = FC()\n",
        "criterion = torch.nn.CrossEntropyLoss()\n",
        "lr = 0.001\n",
        "optimizer = optim.SGD(model.parameters(), lr=lr)\n",
        "\n",
        "\n",
        "\n",
        "#################################################################################\n",
        "#                  COMPLETE THE FOLLOWING SECTION (20 points)                   #\n",
        "#################################################################################\n",
        "# complete code for sequentially training and then\n",
        "# evaluate your model with test data\n",
        "\n",
        "def fwd_pass(model, optimizer, dataloader, is_eval):\n",
        "    accs = []\n",
        "    if not is_eval:\n",
        "        print(\"Train:\")\n",
        "        dataloader = tqdm(dataloader)\n",
        "    for idx, (x, y) in enumerate(dataloader):\n",
        "        optimizer.zero_grad()\n",
        "        logits = model(x.float())\n",
        "        loss = criterion(logits, y)\n",
        "        if not is_eval:\n",
        "            loss.backward()\n",
        "            optimizer.step()\n",
        "\n",
        "        if idx%100==0:\n",
        "            torch.save(model.state_dict(), DRIVE_PATH+'/model.pt')\n",
        "\n",
        "        y_pred = torch.argmax(logits, dim=1)\n",
        "        accs.append( torch.sum(y_pred == y)/x.size(0) )\n",
        "    return np.mean(accs)\n",
        "\n",
        "def get_stats(b, R):\n",
        "    num_tasks = R.shape[0]\n",
        "    acc = np.mean(R[-1][:])\n",
        "    bwt = np.mean([R[-1][i]-R[i][i] for i in range(num_tasks-1)])\n",
        "    fwt = np.mean([R[i-1][i]-b[i] for i in range(1,num_tasks)])\n",
        "    return acc, bwt, fwt\n",
        "\n",
        "with torch.no_grad():\n",
        "    b = np.array([fwd_pass(model, optimizer, dataloader, is_eval=True) for dataloader in test_dataloaders])\n",
        "R = np.array([[None]*num_tasks for _ in range(num_tasks)])\n",
        "\n",
        "for i in range(num_tasks):\n",
        "    print(f\"Task {i+1} Classes: {tasks[i]}\")\n",
        "    _ = fwd_pass(model, optimizer, train_dataloaders[i], is_eval=False)\n",
        "    with torch.no_grad():\n",
        "        for j in range(num_tasks):\n",
        "            R[i][j] = fwd_pass(model, optimizer, test_dataloaders[j], is_eval=True)\n",
        "            print(f\"Accuracy of task {j+1} after training on task {i+1}:  {R[i][j]}\")\n",
        "\n",
        "with open(DRIVE_PATH+\"/results_single.pickle\", 'wb') as f:\n",
        "    pickle.dump((b, R), f)\n",
        "\n",
        "\n",
        "acc, bwt, fwt = get_stats(b, R)\n",
        "print(f\"ACC: {acc} \\n BWT: {bwt} \\n FWT: {fwt}\")\n",
        "\n",
        "#################################################################################"
      ]
    },
    {
      "cell_type": "markdown",
      "metadata": {
        "id": "5YA2C_o3yjtx"
      },
      "source": [
        "## Continually Learning using GEM (50 points)"
      ]
    },
    {
      "cell_type": "markdown",
      "metadata": {
        "id": "rkC4g3etjb_9"
      },
      "source": [
        "In this section, you will complete the codes for the GEM method using the beforementioned parameters. Read the procedure explained in the paper. We pre-defined some functions for you. Complete them and use them in training."
      ]
    },
    {
      "cell_type": "code",
      "execution_count": 14,
      "metadata": {
        "id": "0KUEnCBkpRnE"
      },
      "outputs": [],
      "source": [
        "# define your main class for continually learning with GEM\n",
        "# define all needed variables and functions, all inside this class\n",
        "\n",
        "class GEM(torch.nn.Module):\n",
        "    def __init__(self, memory_size, lr):\n",
        "        super(GEM, self).__init__()   \n",
        "        #################################################################################\n",
        "        #                  COMPLETE THE FOLLOWING SECTION (5 points)                   #\n",
        "        #################################################################################\n",
        "        # define above mentioned model and needed variables\n",
        "        self.model = FC()\n",
        "        self.optimizer = optim.SGD(self.model.parameters(), lr)\n",
        "        self.criterion = torch.nn.CrossEntropyLoss()\n",
        "        \n",
        "        self.memory_size = memory_size\n",
        "        self.memory_datas = torch.FloatTensor(1, memory_size ,28, 28)\n",
        "        self.memory_targets = torch.LongTensor(1, self.memory_size)\n",
        "        self.memory_heads = [0]\n",
        "\n",
        "        self.grad_dims = []\n",
        "        for param in self.model.parameters():\n",
        "            self.grad_dims.append(param.data.numel())\n",
        "        self.grads = torch.FloatTensor(1, sum(self.grad_dims))\n",
        "        \n",
        "        self.num_tasks_learned = 0\n",
        "        #self.grads = torch.Tensor(sum(self.grad_dims), num_tasks)\n",
        "        # TODO move grads to device\n",
        "        \n",
        "        #################################################################################\n",
        "\n",
        "    def calculate_past_classes_gradients(self):\n",
        "        #################################################################################\n",
        "        #                  COMPLETE THE FOLLOWING SECTION (10 points)                   #\n",
        "        #################################################################################\n",
        "        \n",
        "        for t_idx in range(self.num_tasks_learned):\n",
        "            task_data, task_targets = self.memory_datas[t_idx], self.memory_targets[t_idx]\n",
        "            self.model.zero_grad()\n",
        "            logits = self.model(task_data)\n",
        "            loss = self.criterion(logits, task_targets)\n",
        "            loss.backward()\n",
        "\n",
        "            self.grads[t_idx, :].fill_(0.0)\n",
        "            for param_idx, param in enumerate(self.model.parameters()):\n",
        "                if param.grad is not None:\n",
        "                    l = sum(self.grad_dims[:param_idx]) if param_idx else 0\n",
        "                    r = sum(self.grad_dims[:param_idx+1])\n",
        "                    self.grads[t_idx, l:r].copy_(param.grad.data.view(-1))\n",
        "\n",
        "\n",
        "        #################################################################################\n",
        "\n",
        "    def calculate_current_task_gradients(self, x, y, t):\n",
        "        #################################################################################\n",
        "        #                  COMPLETE THE FOLLOWING SECTION (5 points)                    #\n",
        "        #################################################################################\n",
        "        \n",
        "        self.model.zero_grad()\n",
        "        logits = self.model(x)\n",
        "        loss = self.criterion(logits, y)\n",
        "        loss.backward()\n",
        "\n",
        "        self.grads[t, :].fill_(0.0)\n",
        "        for param_idx, param in enumerate(self.model.parameters()):\n",
        "            if param.grad is not None:\n",
        "                l = sum(self.grad_dims[:param_idx]) if param_idx else 0\n",
        "                r = sum(self.grad_dims[:param_idx+1])\n",
        "                self.grads[t, l:r].copy_(param.grad.data.view(-1))\n",
        "\n",
        "        #################################################################################\n",
        "\n",
        "    def project_past_Classes_gradients(self):\n",
        "        #################################################################################\n",
        "        #                  COMPLETE THE FOLLOWING SECTION (15 points)                   #\n",
        "        #################################################################################\n",
        "        gamma = 1\n",
        "        G = self.grads[:self.num_tasks_learned].double().numpy()\n",
        "        g = self.grads[-1].contiguous().view(-1).double().numpy()\n",
        "        U = 0.5 * np.dot(G, G.transpose())\n",
        "        U = U + U.transpose()  + np.eye(self.num_tasks_learned) * gamma\n",
        "        b = -np.dot(G, g)\n",
        "        v = quadprog.solve_qp(U, b, np.eye(self.num_tasks_learned), np.zeros(self.num_tasks_learned)+gamma)[0] #TODO np.zeros(...) + gamma\n",
        "        return torch.FloatTensor(np.dot(v, G) + g).view(-1)\n",
        "        #################################################################################\n",
        "\n",
        "    def add_task_and_expand_params(self, t):\n",
        "        tmp = torch.FloatTensor(t-self.num_tasks_learned, self.memory_datas.size(1), self.memory_datas.size(2), self.memory_datas.size(3))\n",
        "        self.memory_datas = torch.cat([self.memory_datas, tmp])\n",
        "\n",
        "        tmp = torch.LongTensor(t-self.num_tasks_learned, self.memory_targets.size(1))\n",
        "        self.memory_targets = torch.cat([self.memory_targets, tmp])\n",
        "\n",
        "        tmp = torch.FloatTensor(t-self.num_tasks_learned, self.grads.size(1))\n",
        "        self.grads = torch.cat([self.grads, tmp])\n",
        "\n",
        "        self.memory_heads = self.memory_heads + [0]*(t-self.num_tasks_learned)\n",
        "\n",
        "        self.num_tasks_learned=t\n",
        "\n",
        "    def update_memory(self, x, y, t):\n",
        "        #################################################################################\n",
        "        #                  COMPLETE THE FOLLOWING SECTION (5 points)                    #\n",
        "        #################################################################################\n",
        "\n",
        "        if x.size(0) > self.memory_size:\n",
        "            self.memory_datas.copy_(x[-self.memory_size:])\n",
        "            self.memory_targets.copy_(y[-self.memory_size:])\n",
        "            return\n",
        "\n",
        "        #ring strategy\n",
        "        if self.memory_heads[t]+x.size(0) <= self.memory_size:\n",
        "            self.memory_datas[t,self.memory_heads[t]:self.memory_heads[t]+x.size(0)].copy_(x)\n",
        "            self.memory_targets[t,self.memory_heads[t]:self.memory_heads[t]+x.size(0)].copy_(y)\n",
        "            self.memory_heads[t]+=x.size(0)\n",
        "        else:\n",
        "            capacity = self.memory_size-self.memory_heads[t]\n",
        "            \n",
        "            if capacity > 0:\n",
        "                self.memory_datas[t,self.memory_heads[t]:].copy_(x[:capacity])\n",
        "                self.memory_targets[t,self.memory_heads[t]:].copy_(y[:capacity])\n",
        "\n",
        "            self.memory_datas[t,:x.size(0)-capacity].copy_(x[capacity:])\n",
        "            self.memory_targets[t,:x.size(0)-capacity].copy_(y[capacity:])\n",
        "            self.memory_heads[t] = (x.size(0)-capacity+1)%self.memory_size\n",
        "\n",
        "        #################################################################################\n",
        "\n",
        "    def forward(self, x, y, t):\n",
        "        if t > self.num_tasks_learned:\n",
        "            self.add_task_and_expand_params(t)\n",
        "        \n",
        "        self.update_memory(x, y, t)\n",
        "        \n",
        "        self.calculate_current_task_gradients(x, y, t)\n",
        "\n",
        "        if self.num_tasks_learned > 0:\n",
        "            self.calculate_past_classes_gradients()\n",
        "            projected_grads = self.project_past_Classes_gradients()\n",
        "            for param_idx, param in enumerate(self.model.parameters()):\n",
        "                if param.grad is not None:\n",
        "                    l = sum(self.grad_dims[:param_idx]) if param_idx else 0\n",
        "                    r = sum(self.grad_dims[:param_idx+1])\n",
        "                    param.grad.data.copy_(projected_grads[l:r].view(param.grad.data.size()))\n",
        "        \n",
        "        self.optimizer.step()\n",
        "\n",
        "        "
      ]
    },
    {
      "cell_type": "code",
      "execution_count": 25,
      "metadata": {
        "id": "cWLk0oSr6dlU",
        "colab": {
          "base_uri": "https://localhost:8080/"
        },
        "outputId": "90adb382-231f-4dc5-b30f-2fa2f7ffcb0e"
      },
      "outputs": [
        {
          "output_type": "stream",
          "name": "stdout",
          "text": [
            "-------------------- Training GEM with memory_size_per_task=10 --------------------\n",
            "Task 1 Classes: [5 8]\n",
            "Train: \n"
          ]
        },
        {
          "output_type": "stream",
          "name": "stderr",
          "text": [
            "100%|██████████| 600/600 [00:00<00:00, 678.04it/s]\n"
          ]
        },
        {
          "output_type": "stream",
          "name": "stdout",
          "text": [
            "Accuracy of task 1 after training on task 1:  0.9700534343719482\n",
            "Accuracy of task 2 after training on task 1:  0.0013824885245412588\n",
            "Accuracy of task 3 after training on task 1:  0.0\n",
            "Accuracy of task 4 after training on task 1:  0.0\n",
            "Accuracy of task 5 after training on task 1:  0.0\n",
            "Task 2 Classes: [1 7]\n",
            "Train: \n"
          ]
        },
        {
          "output_type": "stream",
          "name": "stderr",
          "text": [
            "100%|██████████| 600/600 [00:04<00:00, 149.33it/s]\n"
          ]
        },
        {
          "output_type": "stream",
          "name": "stdout",
          "text": [
            "Accuracy of task 1 after training on task 2:  0.4795009195804596\n",
            "Accuracy of task 2 after training on task 2:  0.9921659231185913\n",
            "Accuracy of task 3 after training on task 2:  0.0\n",
            "Accuracy of task 4 after training on task 2:  0.0\n",
            "Accuracy of task 5 after training on task 2:  0.0\n",
            "Task 3 Classes: [4 9]\n",
            "Train: \n"
          ]
        },
        {
          "output_type": "stream",
          "name": "stderr",
          "text": [
            "100%|██████████| 600/600 [00:06<00:00, 99.50it/s] \n"
          ]
        },
        {
          "output_type": "stream",
          "name": "stdout",
          "text": [
            "Accuracy of task 1 after training on task 3:  0.2711230218410492\n",
            "Accuracy of task 2 after training on task 3:  0.47926267981529236\n",
            "Accuracy of task 3 after training on task 3:  0.9684999585151672\n",
            "Accuracy of task 4 after training on task 3:  0.0\n",
            "Accuracy of task 5 after training on task 3:  0.0005025125574320555\n",
            "Task 4 Classes: [3 0]\n",
            "Train: \n"
          ]
        },
        {
          "output_type": "stream",
          "name": "stderr",
          "text": [
            "100%|██████████| 600/600 [00:08<00:00, 73.00it/s]\n"
          ]
        },
        {
          "output_type": "stream",
          "name": "stdout",
          "text": [
            "Accuracy of task 1 after training on task 4:  0.18948307633399963\n",
            "Accuracy of task 2 after training on task 4:  0.4619047939777374\n",
            "Accuracy of task 3 after training on task 4:  0.5819999575614929\n",
            "Accuracy of task 4 after training on task 4:  0.9969848990440369\n",
            "Accuracy of task 5 after training on task 4:  0.001005025114864111\n",
            "Task 5 Classes: [6 2]\n",
            "Train: \n"
          ]
        },
        {
          "output_type": "stream",
          "name": "stderr",
          "text": [
            "100%|██████████| 600/600 [00:09<00:00, 62.48it/s]\n"
          ]
        },
        {
          "output_type": "stream",
          "name": "stdout",
          "text": [
            "Accuracy of task 1 after training on task 5:  0.301247775554657\n",
            "Accuracy of task 2 after training on task 5:  0.47281110286712646\n",
            "Accuracy of task 3 after training on task 5:  0.3240000009536743\n",
            "Accuracy of task 4 after training on task 5:  0.44472360610961914\n",
            "Accuracy of task 5 after training on task 5:  0.9894471764564514\n",
            "ACC: 0.5064459443092346 \n",
            " BWT: -0.5962304472923279 \n",
            " FWT: -0.26293718814849854, \n",
            " Run Time:32.86371374130249\n"
          ]
        }
      ],
      "source": [
        "#################################################################################\n",
        "#                  COMPLETE THE FOLLOWING SECTION (10 points)                   #\n",
        "#################################################################################\n",
        "# complete code for gem training\n",
        "# evaluate your model with test data by reporting\n",
        "# accuracy, backward transfer and forward transfer metric\n",
        "# for all tasks\n",
        "\n",
        "import time\n",
        "\n",
        "def train_gem(memory_size_per_task):\n",
        "    print(f\"-------------------- Training GEM with memory_size_per_task={memory_size_per_task} --------------------\")\n",
        "    start_time = time.time()\n",
        "\n",
        "    learner = GEM(memory_size=memory_size_per_task, lr=0.001)\n",
        "\n",
        "    b = np.array([fwd_pass(model, optimizer, dataloader, is_eval=True) for dataloader in test_dataloaders])\n",
        "    R = np.array([[None]*num_tasks for _ in range(num_tasks)])\n",
        "\n",
        "    for i in range(num_tasks):\n",
        "        print(f\"Task {i+1} Classes: {tasks[i]}\")\n",
        "        print(\"Train: \")\n",
        "        for x,y in tqdm(train_dataloaders[i]):\n",
        "            learner(x.float(), y, i)\n",
        "        with torch.no_grad():\n",
        "            for j in range(num_tasks):\n",
        "                R[i][j] = fwd_pass(learner.model, learner.optimizer, test_dataloaders[j], is_eval=True)\n",
        "                print(f\"Accuracy of task {j+1} after training on task {i+1}:  {R[i][j]}\")\n",
        "\n",
        "    with open(DRIVE_PATH+\"/results_gem.pickle\", 'wb') as f:\n",
        "        pickle.dump((b, R), f)\n",
        "\n",
        "\n",
        "    acc, bwt, fwt = get_stats(b, R)\n",
        "    end_time = time.time()\n",
        "    print(f\"ACC: {acc} \\n BWT: {bwt} \\n FWT: {fwt}, \\n Run Time:{end_time-start_time}\")\n",
        "\n",
        "    \n",
        "    return acc, bwt, fwt, end_time-start_time\n",
        "\n",
        "_ = train_gem(memory_size_per_task=10)\n",
        "\n",
        "#################################################################################"
      ]
    },
    {
      "cell_type": "markdown",
      "source": [
        "### increasing memory size"
      ],
      "metadata": {
        "id": "HhXSAnOSmdbv"
      }
    },
    {
      "cell_type": "code",
      "source": [
        "memory_size = [10, 100, 200, 500, 1000, 2500]\n",
        "accs = []\n",
        "bwts = []\n",
        "fwts = []\n",
        "times = []\n",
        "for mem_size in memory_size:\n",
        "    acc, bwt, fwt, run_time = train_gem(memory_size_per_task=mem_size)\n",
        "    accs.append(acc)\n",
        "    bwts.append(bwt)\n",
        "    fwts.append(fwt)\n",
        "    times.append(run_time)"
      ],
      "metadata": {
        "colab": {
          "base_uri": "https://localhost:8080/"
        },
        "id": "DLEsHHsrmc6W",
        "outputId": "f4888a94-2b3e-48c3-8929-0ee072e10423"
      },
      "execution_count": 26,
      "outputs": [
        {
          "output_type": "stream",
          "name": "stdout",
          "text": [
            "-------------------- Training GEM with memory_size_per_task=10 --------------------\n",
            "Task 1 Classes: [5 8]\n",
            "Train: \n"
          ]
        },
        {
          "output_type": "stream",
          "name": "stderr",
          "text": [
            "100%|██████████| 600/600 [00:00<00:00, 626.08it/s]\n"
          ]
        },
        {
          "output_type": "stream",
          "name": "stdout",
          "text": [
            "Accuracy of task 1 after training on task 1:  0.9689839482307434\n",
            "Accuracy of task 2 after training on task 1:  0.0\n",
            "Accuracy of task 3 after training on task 1:  0.0\n",
            "Accuracy of task 4 after training on task 1:  0.0\n",
            "Accuracy of task 5 after training on task 1:  0.0\n",
            "Task 2 Classes: [1 7]\n",
            "Train: \n"
          ]
        },
        {
          "output_type": "stream",
          "name": "stderr",
          "text": [
            "100%|██████████| 600/600 [00:04<00:00, 137.58it/s]\n"
          ]
        },
        {
          "output_type": "stream",
          "name": "stdout",
          "text": [
            "Accuracy of task 1 after training on task 2:  0.5636363625526428\n",
            "Accuracy of task 2 after training on task 2:  0.9880183935165405\n",
            "Accuracy of task 3 after training on task 2:  0.0\n",
            "Accuracy of task 4 after training on task 2:  0.0\n",
            "Accuracy of task 5 after training on task 2:  0.0\n",
            "Task 3 Classes: [4 9]\n",
            "Train: \n"
          ]
        },
        {
          "output_type": "stream",
          "name": "stderr",
          "text": [
            "100%|██████████| 600/600 [00:06<00:00, 98.60it/s] \n"
          ]
        },
        {
          "output_type": "stream",
          "name": "stdout",
          "text": [
            "Accuracy of task 1 after training on task 3:  0.28342247009277344\n",
            "Accuracy of task 2 after training on task 3:  0.5342549681663513\n",
            "Accuracy of task 3 after training on task 3:  0.9649999737739563\n",
            "Accuracy of task 4 after training on task 3:  0.0\n",
            "Accuracy of task 5 after training on task 3:  0.0\n",
            "Task 4 Classes: [3 0]\n",
            "Train: \n"
          ]
        },
        {
          "output_type": "stream",
          "name": "stderr",
          "text": [
            "100%|██████████| 600/600 [00:08<00:00, 67.47it/s]\n"
          ]
        },
        {
          "output_type": "stream",
          "name": "stdout",
          "text": [
            "Accuracy of task 1 after training on task 4:  0.14385028183460236\n",
            "Accuracy of task 2 after training on task 4:  0.5675883293151855\n",
            "Accuracy of task 3 after training on task 4:  0.43550002574920654\n",
            "Accuracy of task 4 after training on task 4:  0.9919597506523132\n",
            "Accuracy of task 5 after training on task 4:  0.0\n",
            "Task 5 Classes: [6 2]\n",
            "Train: \n"
          ]
        },
        {
          "output_type": "stream",
          "name": "stderr",
          "text": [
            "100%|██████████| 600/600 [00:08<00:00, 67.50it/s]\n"
          ]
        },
        {
          "output_type": "stream",
          "name": "stdout",
          "text": [
            "Accuracy of task 1 after training on task 5:  0.15490198135375977\n",
            "Accuracy of task 2 after training on task 5:  0.5600614547729492\n",
            "Accuracy of task 3 after training on task 5:  0.4180000424385071\n",
            "Accuracy of task 4 after training on task 5:  0.5718593001365662\n",
            "Accuracy of task 5 after training on task 5:  0.989447295665741\n",
            "ACC: 0.5388540029525757 \n",
            " BWT: -0.552284836769104 \n",
            " FWT: -0.2635340690612793, \n",
            " Run Time:33.44610786437988\n",
            "-------------------- Training GEM with memory_size_per_task=100 --------------------\n",
            "Task 1 Classes: [5 8]\n",
            "Train: \n"
          ]
        },
        {
          "output_type": "stream",
          "name": "stderr",
          "text": [
            "100%|██████████| 600/600 [00:00<00:00, 653.58it/s]\n"
          ]
        },
        {
          "output_type": "stream",
          "name": "stdout",
          "text": [
            "Accuracy of task 1 after training on task 1:  0.9828877449035645\n",
            "Accuracy of task 2 after training on task 1:  0.0\n",
            "Accuracy of task 3 after training on task 1:  0.0005000000237487257\n",
            "Accuracy of task 4 after training on task 1:  0.0\n",
            "Accuracy of task 5 after training on task 1:  0.0\n",
            "Task 2 Classes: [1 7]\n",
            "Train: \n"
          ]
        },
        {
          "output_type": "stream",
          "name": "stderr",
          "text": [
            "100%|██████████| 600/600 [00:05<00:00, 114.50it/s]\n"
          ]
        },
        {
          "output_type": "stream",
          "name": "stdout",
          "text": [
            "Accuracy of task 1 after training on task 2:  0.8390374779701233\n",
            "Accuracy of task 2 after training on task 2:  0.9912442564964294\n",
            "Accuracy of task 3 after training on task 2:  0.0005000000237487257\n",
            "Accuracy of task 4 after training on task 2:  0.0005025125574320555\n",
            "Accuracy of task 5 after training on task 2:  0.0\n",
            "Task 3 Classes: [4 9]\n",
            "Train: \n"
          ]
        },
        {
          "output_type": "stream",
          "name": "stderr",
          "text": [
            "100%|██████████| 600/600 [00:08<00:00, 70.36it/s]\n"
          ]
        },
        {
          "output_type": "stream",
          "name": "stdout",
          "text": [
            "Accuracy of task 1 after training on task 3:  0.8023172616958618\n",
            "Accuracy of task 2 after training on task 3:  0.8685100078582764\n",
            "Accuracy of task 3 after training on task 3:  0.9589999914169312\n",
            "Accuracy of task 4 after training on task 3:  0.001005025114864111\n",
            "Accuracy of task 5 after training on task 3:  0.0\n",
            "Task 4 Classes: [3 0]\n",
            "Train: \n"
          ]
        },
        {
          "output_type": "stream",
          "name": "stderr",
          "text": [
            "100%|██████████| 600/600 [00:11<00:00, 51.28it/s]\n"
          ]
        },
        {
          "output_type": "stream",
          "name": "stdout",
          "text": [
            "Accuracy of task 1 after training on task 4:  0.5672014951705933\n",
            "Accuracy of task 2 after training on task 4:  0.8984638452529907\n",
            "Accuracy of task 3 after training on task 4:  0.8809999823570251\n",
            "Accuracy of task 4 after training on task 4:  0.9899497628211975\n",
            "Accuracy of task 5 after training on task 4:  0.0\n",
            "Task 5 Classes: [6 2]\n",
            "Train: \n"
          ]
        },
        {
          "output_type": "stream",
          "name": "stderr",
          "text": [
            "100%|██████████| 600/600 [00:13<00:00, 43.17it/s]\n"
          ]
        },
        {
          "output_type": "stream",
          "name": "stdout",
          "text": [
            "Accuracy of task 1 after training on task 5:  0.6887699961662292\n",
            "Accuracy of task 2 after training on task 5:  0.8737327456474304\n",
            "Accuracy of task 3 after training on task 5:  0.8475000262260437\n",
            "Accuracy of task 4 after training on task 5:  0.86080402135849\n",
            "Accuracy of task 5 after training on task 5:  0.9804020524024963\n",
            "ACC: 0.8502417802810669 \n",
            " BWT: -0.1630687415599823 \n",
            " FWT: -0.26315781474113464, \n",
            " Run Time:44.54021406173706\n",
            "-------------------- Training GEM with memory_size_per_task=200 --------------------\n",
            "Task 1 Classes: [5 8]\n",
            "Train: \n"
          ]
        },
        {
          "output_type": "stream",
          "name": "stderr",
          "text": [
            "100%|██████████| 600/600 [00:00<00:00, 639.80it/s]\n"
          ]
        },
        {
          "output_type": "stream",
          "name": "stdout",
          "text": [
            "Accuracy of task 1 after training on task 1:  0.9770053029060364\n",
            "Accuracy of task 2 after training on task 1:  0.0\n",
            "Accuracy of task 3 after training on task 1:  0.0\n",
            "Accuracy of task 4 after training on task 1:  0.0\n",
            "Accuracy of task 5 after training on task 1:  0.0\n",
            "Task 2 Classes: [1 7]\n",
            "Train: \n"
          ]
        },
        {
          "output_type": "stream",
          "name": "stderr",
          "text": [
            "100%|██████████| 600/600 [00:06<00:00, 92.71it/s]\n"
          ]
        },
        {
          "output_type": "stream",
          "name": "stdout",
          "text": [
            "Accuracy of task 1 after training on task 2:  0.9101604223251343\n",
            "Accuracy of task 2 after training on task 2:  0.9898616671562195\n",
            "Accuracy of task 3 after training on task 2:  0.0\n",
            "Accuracy of task 4 after training on task 2:  0.0\n",
            "Accuracy of task 5 after training on task 2:  0.0\n",
            "Task 3 Classes: [4 9]\n",
            "Train: \n"
          ]
        },
        {
          "output_type": "stream",
          "name": "stderr",
          "text": [
            "100%|██████████| 600/600 [00:10<00:00, 57.31it/s]\n"
          ]
        },
        {
          "output_type": "stream",
          "name": "stdout",
          "text": [
            "Accuracy of task 1 after training on task 3:  0.8647059202194214\n",
            "Accuracy of task 2 after training on task 3:  0.9092165231704712\n",
            "Accuracy of task 3 after training on task 3:  0.969499945640564\n",
            "Accuracy of task 4 after training on task 3:  0.0005025125574320555\n",
            "Accuracy of task 5 after training on task 3:  0.0\n",
            "Task 4 Classes: [3 0]\n",
            "Train: \n"
          ]
        },
        {
          "output_type": "stream",
          "name": "stderr",
          "text": [
            "100%|██████████| 600/600 [00:15<00:00, 39.74it/s]\n"
          ]
        },
        {
          "output_type": "stream",
          "name": "stdout",
          "text": [
            "Accuracy of task 1 after training on task 4:  0.7324421405792236\n",
            "Accuracy of task 2 after training on task 4:  0.9039937853813171\n",
            "Accuracy of task 3 after training on task 4:  0.9189999103546143\n",
            "Accuracy of task 4 after training on task 4:  0.9889446496963501\n",
            "Accuracy of task 5 after training on task 4:  0.0\n",
            "Task 5 Classes: [6 2]\n",
            "Train: \n"
          ]
        },
        {
          "output_type": "stream",
          "name": "stderr",
          "text": [
            "100%|██████████| 600/600 [00:18<00:00, 32.62it/s]\n"
          ]
        },
        {
          "output_type": "stream",
          "name": "stdout",
          "text": [
            "Accuracy of task 1 after training on task 5:  0.7566844820976257\n",
            "Accuracy of task 2 after training on task 5:  0.896620512008667\n",
            "Accuracy of task 3 after training on task 5:  0.8835000395774841\n",
            "Accuracy of task 4 after training on task 5:  0.9015074968338013\n",
            "Accuracy of task 5 after training on task 5:  0.9854271411895752\n",
            "ACC: 0.8847478628158569 \n",
            " BWT: -0.12174975872039795 \n",
            " FWT: -0.2634084224700928, \n",
            " Run Time:55.56895303726196\n",
            "-------------------- Training GEM with memory_size_per_task=500 --------------------\n",
            "Task 1 Classes: [5 8]\n",
            "Train: \n"
          ]
        },
        {
          "output_type": "stream",
          "name": "stderr",
          "text": [
            "100%|██████████| 600/600 [00:00<00:00, 654.91it/s]\n"
          ]
        },
        {
          "output_type": "stream",
          "name": "stdout",
          "text": [
            "Accuracy of task 1 after training on task 1:  0.9764706492424011\n",
            "Accuracy of task 2 after training on task 1:  0.0\n",
            "Accuracy of task 3 after training on task 1:  0.0005000000237487257\n",
            "Accuracy of task 4 after training on task 1:  0.0\n",
            "Accuracy of task 5 after training on task 1:  0.0\n",
            "Task 2 Classes: [1 7]\n",
            "Train: \n"
          ]
        },
        {
          "output_type": "stream",
          "name": "stderr",
          "text": [
            "100%|██████████| 600/600 [00:10<00:00, 56.82it/s]\n"
          ]
        },
        {
          "output_type": "stream",
          "name": "stdout",
          "text": [
            "Accuracy of task 1 after training on task 2:  0.9326202869415283\n",
            "Accuracy of task 2 after training on task 2:  0.9866359233856201\n",
            "Accuracy of task 3 after training on task 2:  0.0\n",
            "Accuracy of task 4 after training on task 2:  0.0\n",
            "Accuracy of task 5 after training on task 2:  0.0\n",
            "Task 3 Classes: [4 9]\n",
            "Train: \n"
          ]
        },
        {
          "output_type": "stream",
          "name": "stderr",
          "text": [
            "100%|██████████| 600/600 [00:18<00:00, 32.04it/s]\n"
          ]
        },
        {
          "output_type": "stream",
          "name": "stdout",
          "text": [
            "Accuracy of task 1 after training on task 3:  0.9112299084663391\n",
            "Accuracy of task 2 after training on task 3:  0.9520736932754517\n",
            "Accuracy of task 3 after training on task 3:  0.9599999785423279\n",
            "Accuracy of task 4 after training on task 3:  0.0\n",
            "Accuracy of task 5 after training on task 3:  0.0\n",
            "Task 4 Classes: [3 0]\n",
            "Train: \n"
          ]
        },
        {
          "output_type": "stream",
          "name": "stderr",
          "text": [
            "100%|██████████| 600/600 [00:26<00:00, 22.62it/s]\n"
          ]
        },
        {
          "output_type": "stream",
          "name": "stdout",
          "text": [
            "Accuracy of task 1 after training on task 4:  0.8550801873207092\n",
            "Accuracy of task 2 after training on task 4:  0.9473117589950562\n",
            "Accuracy of task 3 after training on task 4:  0.9275000095367432\n",
            "Accuracy of task 4 after training on task 4:  0.9814070463180542\n",
            "Accuracy of task 5 after training on task 4:  0.0\n",
            "Task 5 Classes: [6 2]\n",
            "Train: \n"
          ]
        },
        {
          "output_type": "stream",
          "name": "stderr",
          "text": [
            "100%|██████████| 600/600 [00:34<00:00, 17.38it/s]\n"
          ]
        },
        {
          "output_type": "stream",
          "name": "stdout",
          "text": [
            "Accuracy of task 1 after training on task 5:  0.8552584648132324\n",
            "Accuracy of task 2 after training on task 5:  0.936866283416748\n",
            "Accuracy of task 3 after training on task 5:  0.9189999103546143\n",
            "Accuracy of task 4 after training on task 5:  0.9356783032417297\n",
            "Accuracy of task 5 after training on task 5:  0.9834170937538147\n",
            "ACC: 0.9260439872741699 \n",
            " BWT: -0.06442765891551971 \n",
            " FWT: -0.2635340690612793, \n",
            " Run Time:95.3926260471344\n",
            "-------------------- Training GEM with memory_size_per_task=1000 --------------------\n",
            "Task 1 Classes: [5 8]\n",
            "Train: \n"
          ]
        },
        {
          "output_type": "stream",
          "name": "stderr",
          "text": [
            "100%|██████████| 600/600 [00:00<00:00, 674.33it/s]\n"
          ]
        },
        {
          "output_type": "stream",
          "name": "stdout",
          "text": [
            "Accuracy of task 1 after training on task 1:  0.9718360304832458\n",
            "Accuracy of task 2 after training on task 1:  0.0\n",
            "Accuracy of task 3 after training on task 1:  0.0\n",
            "Accuracy of task 4 after training on task 1:  0.0\n",
            "Accuracy of task 5 after training on task 1:  0.0\n",
            "Task 2 Classes: [1 7]\n",
            "Train: \n"
          ]
        },
        {
          "output_type": "stream",
          "name": "stderr",
          "text": [
            "100%|██████████| 600/600 [00:16<00:00, 35.39it/s]\n"
          ]
        },
        {
          "output_type": "stream",
          "name": "stdout",
          "text": [
            "Accuracy of task 1 after training on task 2:  0.9598930478096008\n",
            "Accuracy of task 2 after training on task 2:  0.9889400005340576\n",
            "Accuracy of task 3 after training on task 2:  0.0\n",
            "Accuracy of task 4 after training on task 2:  0.0\n",
            "Accuracy of task 5 after training on task 2:  0.0\n",
            "Task 3 Classes: [4 9]\n",
            "Train: \n"
          ]
        },
        {
          "output_type": "stream",
          "name": "stderr",
          "text": [
            "100%|██████████| 600/600 [00:30<00:00, 19.35it/s]\n"
          ]
        },
        {
          "output_type": "stream",
          "name": "stdout",
          "text": [
            "Accuracy of task 1 after training on task 3:  0.9310160875320435\n",
            "Accuracy of task 2 after training on task 3:  0.960829496383667\n",
            "Accuracy of task 3 after training on task 3:  0.9529999494552612\n",
            "Accuracy of task 4 after training on task 3:  0.0\n",
            "Accuracy of task 5 after training on task 3:  0.0\n",
            "Task 4 Classes: [3 0]\n",
            "Train: \n"
          ]
        },
        {
          "output_type": "stream",
          "name": "stderr",
          "text": [
            "100%|██████████| 600/600 [00:45<00:00, 13.29it/s]\n"
          ]
        },
        {
          "output_type": "stream",
          "name": "stdout",
          "text": [
            "Accuracy of task 1 after training on task 4:  0.866488516330719\n",
            "Accuracy of task 2 after training on task 4:  0.9493087530136108\n",
            "Accuracy of task 3 after training on task 4:  0.9419999718666077\n",
            "Accuracy of task 4 after training on task 4:  0.979899525642395\n",
            "Accuracy of task 5 after training on task 4:  0.0005025125574320555\n",
            "Task 5 Classes: [6 2]\n",
            "Train: \n"
          ]
        },
        {
          "output_type": "stream",
          "name": "stderr",
          "text": [
            "100%|██████████| 600/600 [00:56<00:00, 10.71it/s]\n"
          ]
        },
        {
          "output_type": "stream",
          "name": "stdout",
          "text": [
            "Accuracy of task 1 after training on task 5:  0.8923351168632507\n",
            "Accuracy of task 2 after training on task 5:  0.9410138130187988\n",
            "Accuracy of task 3 after training on task 5:  0.9200000166893005\n",
            "Accuracy of task 4 after training on task 5:  0.9477387070655823\n",
            "Accuracy of task 5 after training on task 5:  0.9753769040107727\n",
            "ACC: 0.9352928996086121 \n",
            " BWT: -0.048146963119506836 \n",
            " FWT: -0.2634084224700928, \n",
            " Run Time:154.1902973651886\n",
            "-------------------- Training GEM with memory_size_per_task=2500 --------------------\n",
            "Task 1 Classes: [5 8]\n",
            "Train: \n"
          ]
        },
        {
          "output_type": "stream",
          "name": "stderr",
          "text": [
            "100%|██████████| 600/600 [00:00<00:00, 673.43it/s]\n"
          ]
        },
        {
          "output_type": "stream",
          "name": "stdout",
          "text": [
            "Accuracy of task 1 after training on task 1:  0.9755793809890747\n",
            "Accuracy of task 2 after training on task 1:  0.0\n",
            "Accuracy of task 3 after training on task 1:  0.0\n",
            "Accuracy of task 4 after training on task 1:  0.0\n",
            "Accuracy of task 5 after training on task 1:  0.0\n",
            "Task 2 Classes: [1 7]\n",
            "Train: \n"
          ]
        },
        {
          "output_type": "stream",
          "name": "stderr",
          "text": [
            "100%|██████████| 600/600 [00:34<00:00, 17.50it/s]\n"
          ]
        },
        {
          "output_type": "stream",
          "name": "stdout",
          "text": [
            "Accuracy of task 1 after training on task 2:  0.958823561668396\n",
            "Accuracy of task 2 after training on task 2:  0.9903225302696228\n",
            "Accuracy of task 3 after training on task 2:  0.0\n",
            "Accuracy of task 4 after training on task 2:  0.0\n",
            "Accuracy of task 5 after training on task 2:  0.0\n",
            "Task 3 Classes: [4 9]\n",
            "Train: \n"
          ]
        },
        {
          "output_type": "stream",
          "name": "stderr",
          "text": [
            "100%|██████████| 600/600 [01:07<00:00,  8.83it/s]\n"
          ]
        },
        {
          "output_type": "stream",
          "name": "stdout",
          "text": [
            "Accuracy of task 1 after training on task 3:  0.9614973664283752\n",
            "Accuracy of task 2 after training on task 3:  0.9754223823547363\n",
            "Accuracy of task 3 after training on task 3:  0.949999988079071\n",
            "Accuracy of task 4 after training on task 3:  0.0\n",
            "Accuracy of task 5 after training on task 3:  0.0005025125574320555\n",
            "Task 4 Classes: [3 0]\n",
            "Train: \n"
          ]
        },
        {
          "output_type": "stream",
          "name": "stderr",
          "text": [
            "100%|██████████| 600/600 [01:29<00:00,  6.70it/s]\n"
          ]
        },
        {
          "output_type": "stream",
          "name": "stdout",
          "text": [
            "Accuracy of task 1 after training on task 4:  0.9433154463768005\n",
            "Accuracy of task 2 after training on task 4:  0.9732717871665955\n",
            "Accuracy of task 3 after training on task 4:  0.9399999976158142\n",
            "Accuracy of task 4 after training on task 4:  0.9683417677879333\n",
            "Accuracy of task 5 after training on task 4:  0.0\n",
            "Task 5 Classes: [6 2]\n",
            "Train: \n"
          ]
        },
        {
          "output_type": "stream",
          "name": "stderr",
          "text": [
            "100%|██████████| 600/600 [01:49<00:00,  5.47it/s]\n"
          ]
        },
        {
          "output_type": "stream",
          "name": "stdout",
          "text": [
            "Accuracy of task 1 after training on task 5:  0.9320855140686035\n",
            "Accuracy of task 2 after training on task 5:  0.9663594365119934\n",
            "Accuracy of task 3 after training on task 5:  0.9454999566078186\n",
            "Accuracy of task 4 after training on task 5:  0.9703518152236938\n",
            "Accuracy of task 5 after training on task 5:  0.9673366546630859\n",
            "ACC: 0.9563266634941101 \n",
            " BWT: -0.017486736178398132 \n",
            " FWT: -0.2635340690612793, \n",
            " Run Time:306.5953538417816\n"
          ]
        }
      ]
    },
    {
      "cell_type": "markdown",
      "metadata": {
        "id": "Va8wXHAvoZtG"
      },
      "source": [
        "## Explain the results (10 points)"
      ]
    },
    {
      "cell_type": "markdown",
      "metadata": {
        "id": "QvDqXPXRoewA"
      },
      "source": [
        "Your Explain:\n",
        "\n",
        "\n",
        "همانطور که در سوال ۵ تمرین نیز دیده شد اثر گذاری روش های مبتنی بر ایجاد حافظه و روش های مبتنی بر منظم سازی شدت آپدیت تفاوت دارند. دیده شد روش های مبتنی بر تکرار حافظه با ایجاد زیر فضا های متعامد بازنمایی داده های تسک هایی قبل را نیز حفظ می کنند و باعث بهبود انتقال منفی رو به عقب می شوند که در حالت آموزش بدون حافظه مشاهده می شود این عدد -۰.۹ است و واضخا این انتقال رو به عقب منفی باعث فراموشیی شدید و بدست آمدن دقت بسیار پایین روی تسک های قبل از تسک آخر است.\n",
        "\n",
        "همچنین دیده شد که روش های مبتی بر منظم سازی شدت آپدیت باعث می شوند که فیچر هایی تمامی لایه ها(حتیی لایه های آخر) قابل استفاده مجدد شوند. در نتیجه این روش ها با جلوگیری از تغییر بیش از حد وزن باعث می شوند مدل یاد بگیرد از فیچر های بدست آمده روی تسک های قبلی به خوبی استفاده مجدد کند. از دید دیگر باعث می شوند که فیچر های تسک فعلی در تسک های آینده به کار آیند و انتقال رو به جلو را بهبود می دهند.\n",
        "\n",
        "در نتیجه این مشاهدات مقاله سوال ۵ با مشاهدات این تمرین نیز سازگار است. روش \n",
        "\n",
        "GEM\n",
        "\n",
        "که مبتنی بر تکرار داده ها است به خوبی توانسته است که انتقال منفی رو به عقب را کاهش دهد و با این اتفاق از فراموشی فاجعه بار جلوگیری کرده است و میبینیم که حتی با تعداد کمی تکرار روی تسک های قبل دقت میانگین مدل ها پس از آموزش همه تسک ها در حد ۹۰ درصد نگه داری شود. با اینکه یک نوع منظم سازی در آموزش جم نییز وجود دارد اما اثر مثبتی روی انتقال رو به جلو مشاهده نمی شود که منظقی است زیرا در فرمول ۶ مقاله میبینیم که منظم سازی روی شدت آپدیت وزن ها نیست بلکه فقط عدم کاهش لاس روی تسک های قبلی را مقید می کند و توجهی به قابل استفاده بودن فیچر ها در تسک های بعدی نمی کند."
      ]
    },
    {
      "cell_type": "code",
      "source": [
        "plt.plot(memory_size, accs, label=\"ACC\")\n",
        "plt.plot(memory_size, bwts, label=\"BWT\")\n",
        "plt.plot(memory_size, fwts, label=\"FWT\")\n",
        "plt.plot(memory_size, [t/300 for t in times], label=\"Run Time\")\n",
        "plt.xlabel('Replay Buffer Size Per Task')\n",
        "plt.legend()"
      ],
      "metadata": {
        "colab": {
          "base_uri": "https://localhost:8080/",
          "height": 297
        },
        "id": "aVIOln4fsJzj",
        "outputId": "4e9ad413-49b6-4c43-a7ee-43b1266bb272"
      },
      "execution_count": 35,
      "outputs": [
        {
          "output_type": "execute_result",
          "data": {
            "text/plain": [
              "<matplotlib.legend.Legend at 0x7f40ae35e290>"
            ]
          },
          "metadata": {},
          "execution_count": 35
        },
        {
          "output_type": "display_data",
          "data": {
            "text/plain": [
              "<Figure size 432x288 with 1 Axes>"
            ],
            "image/png": "[encoded data removed]"
          },
          "metadata": {
            "needs_background": "light"
          }
        }
      ]
    },
    {
      "cell_type": "markdown",
      "source": [
        "در نمودار نیز مشاهده می شود که استفاده از حافظه انتقال رو به عقب را کنترل می کند و دقت نهایی روی تسک ها را افزایش داده و از فراموشی جلوگیری می کند.\n",
        "\n",
        "همچنین با توجه به شیب نمودار ها نکته جالب کافی بودن ذخیره تعداد کمی داده برای هر تسک است و می بینیم که بیشتر کردن سایز مموری زیاد با توجه به افزایش زمان آموزش تاثیر گذاری خاصی ندارد و همان اطراف ۳۰۰ داده در ۳۰۰۰ داده برای ذخیره کافی است"
      ],
      "metadata": {
        "id": "mzqnjPY5tGMx"
      }
    },
    {
      "cell_type": "code",
      "source": [
        ""
      ],
      "metadata": {
        "id": "BXIWfv5zsoOt"
      },
      "execution_count": null,
      "outputs": []
    }
  ],
  "metadata": {
    "colab": {
      "collapsed_sections": [],
      "name": "GEM.ipynb",
      "provenance": []
    },
    "kernelspec": {
      "display_name": "Python 3",
      "language": "python",
      "name": "python3"
    },
    "language_info": {
      "codemirror_mode": {
        "name": "ipython",
        "version": 3
      },
      "file_extension": ".py",
      "mimetype": "text/x-python",
      "name": "python",
      "nbconvert_exporter": "python",
      "pygments_lexer": "ipython3",
      "version": "3.9.12"
    }
  },
  "nbformat": 4,
  "nbformat_minor": 0
}