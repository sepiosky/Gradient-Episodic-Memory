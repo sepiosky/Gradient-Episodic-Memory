{
 "cells": [
  {
   "cell_type": "markdown",
   "metadata": {
    "id": "vQ9vc_NWigTE"
   },
   "source": [
    "# CE-40959: Advanced Machine Learning\n",
    "## HW5 - Continual Learning (90 points)\n",
    "\n",
    "#### Name: \n",
    "#### Student No: "
   ]
  },
  {
   "cell_type": "markdown",
   "metadata": {
    "id": "5r9Y8-G0iozQ"
   },
   "source": [
    "In this notebook, you are going to see the `catastrophic forgetting` phenomenon in continual learning scenarios and then alleviate this problem by implementing [Gradient Episodic Memory(GEM)](https://arxiv.org/abs/1706.08840) on the `MNIST` dataset.\n",
    "\n",
    "\n",
    "Please write your code in specified sections and do not change anything else. If you have a question regarding this homework, please ask it on the Quera.\n",
    "\n",
    "Also, it is recommended to use Google Colab to do this homework. You can connect to your drive using the code below:"
   ]
  },
  {
   "cell_type": "code",
   "execution_count": null,
   "metadata": {
    "id": "nGnkMrr6iCeo"
   },
   "outputs": [],
   "source": [
    "from google.colab import drive\n",
    "drive.mount('/content/drive')"
   ]
  },
  {
   "cell_type": "markdown",
   "metadata": {
    "id": "8oNFX6Z9tVNB"
   },
   "source": [
    "## Import Required libraries"
   ]
  },
  {
   "cell_type": "code",
   "execution_count": null,
   "metadata": {
    "id": "aqgGYYp71AGL"
   },
   "outputs": [],
   "source": [
    "!pip install quadprog"
   ]
  },
  {
   "cell_type": "code",
   "execution_count": null,
   "metadata": {
    "id": "m_9dNn8miytX"
   },
   "outputs": [],
   "source": [
    "import numpy as np\n",
    "import os\n",
    "import matplotlib.pyplot as plt\n",
    "import torch\n",
    "import torchvision\n",
    "import random\n",
    "import torch.nn as nn\n",
    "import math\n",
    "import quadprog\n",
    "\n",
    "import torch.nn.functional as F\n",
    "import torchvision.transforms as transforms\n",
    "import torch.optim as optim\n",
    "import torch.utils.data as data"
   ]
  },
  {
   "cell_type": "markdown",
   "metadata": {
    "id": "9Ti3G7U5taUu"
   },
   "source": [
    "## Learning parameters"
   ]
  },
  {
   "cell_type": "code",
   "execution_count": null,
   "metadata": {
    "id": "17H45PaUstUI"
   },
   "outputs": [],
   "source": [
    "num_classes = 10\n",
    "class_per_task = 2\n",
    "number_of_data_per_class = 3000\n",
    "num_tasks = int(num_classes // class_per_task)\n",
    "batch_size = 10\n",
    "memory_size_per_task = 10"
   ]
  },
  {
   "cell_type": "markdown",
   "metadata": {
    "id": "R0sdW7F8tcl1"
   },
   "source": [
    "## Prepare dataset (5 points)"
   ]
  },
  {
   "cell_type": "markdown",
   "metadata": {
    "id": "C-VMIe8CzWmI"
   },
   "source": [
    "To compare different benchmarks fairly, define all of your dataloaders for each task and save them in an array."
   ]
  },
  {
   "cell_type": "code",
   "execution_count": null,
   "metadata": {
    "id": "b-yOG-uxoaZ4"
   },
   "outputs": [],
   "source": [
    "def get_all_dataloaders(num_classes, class_per_task, number_of_data_per_class, num_tasks):\n",
    "    #################################################################################\n",
    "    #                  COMPLETE THE FOLLOWING SECTION (2.5 points)                   #\n",
    "    #################################################################################\n",
    "    # complete the function to get all dataloaders for all tasks\n",
    "    pass\n",
    "    #################################################################################\n",
    "\n",
    "\n",
    "def get_testloader():\n",
    "    #################################################################################\n",
    "    #                  COMPLETE THE FOLLOWING SECTION (2.5 points)                   #\n",
    "    #################################################################################\n",
    "    # complete the function to get MNIST test dataloader\n",
    "    pass\n",
    "    #################################################################################"
   ]
  },
  {
   "cell_type": "markdown",
   "metadata": {
    "id": "-1TiyGp71Lyv"
   },
   "source": [
    "## Network (5 points)"
   ]
  },
  {
   "cell_type": "code",
   "execution_count": null,
   "metadata": {
    "id": "n7CJ3Nrz1Y5t"
   },
   "outputs": [],
   "source": [
    "# define a 3 layer fc with relu activation functions between layers\n",
    "# your fc layers dimensions are as follows:\n",
    "# 784, 150, 150, 10\n",
    "\n",
    "\n",
    "#################################################################################\n",
    "#                  COMPLETE THE FOLLOWING SECTION (5 points)                   #\n",
    "#################################################################################\n",
    "# define above mentioned model and needed variables\n",
    "\n",
    "class FC(torch.nn.Module):\n",
    "    def __init__(self):\n",
    "        super(FC, self).__init__()   \n",
    "\n",
    "    def forward(self):\n",
    "        pass\n",
    "\n",
    "#################################################################################"
   ]
  },
  {
   "cell_type": "markdown",
   "metadata": {
    "id": "Bvv-TsoHtmN-"
   },
   "source": [
    "## Naive Learning (20 points)"
   ]
  },
  {
   "cell_type": "markdown",
   "metadata": {
    "id": "NdZlDuvLtnu-"
   },
   "source": [
    "In this section, you will learn a network in its natural state, without considering any strategy for learning it continually. You will see that learning data in a such fashion causes a phenomenon called catastrophic forgetting.\n",
    "\n",
    "As `GEM` is a task-incremental method, like the paper, evaluate your trained model performance for each task and then report the average accuracy of tasks. In addition to Accuracy metric, report the `backward transfer` and `forward transfer` metric based on the defination in the paper."
   ]
  },
  {
   "cell_type": "code",
   "execution_count": null,
   "metadata": {
    "id": "HKL6_gTr2xAp"
   },
   "outputs": [],
   "source": [
    "device = torch.device('cuda' if torch.cuda.is_available() else 'cpu')\n",
    "\n",
    "model = None\n",
    "criterion = None\n",
    "lr = None\n",
    "optimizer = None\n",
    "\n",
    "\n",
    "\n",
    "#################################################################################\n",
    "#                  COMPLETE THE FOLLOWING SECTION (20 points)                   #\n",
    "#################################################################################\n",
    "# complete code for sequentially training and then\n",
    "# evaluate your model with test data\n",
    "\n",
    "\n",
    "for i in range(num_tasks):\n",
    "    pass\n",
    "\n",
    "\n",
    "\n",
    "\n",
    "#################################################################################"
   ]
  },
  {
   "cell_type": "markdown",
   "metadata": {
    "id": "5YA2C_o3yjtx"
   },
   "source": [
    "## Continually Learning using GEM (50 points)"
   ]
  },
  {
   "cell_type": "markdown",
   "metadata": {
    "id": "rkC4g3etjb_9"
   },
   "source": [
    "In this section, you will complete the codes for the GEM method using the beforementioned parameters. Read the procedure explained in the paper. We pre-defined some functions for you. Complete them and use them in training."
   ]
  },
  {
   "cell_type": "code",
   "execution_count": null,
   "metadata": {
    "id": "0KUEnCBkpRnE"
   },
   "outputs": [],
   "source": [
    "# define your main class for continually learning with GEM\n",
    "# define all needed variables and functions, all inside this class\n",
    "\n",
    "class GEM(torch.nn.Module):\n",
    "    def __init__(self):\n",
    "        super(GEM, self).__init__()   \n",
    "        #################################################################################\n",
    "        #                  COMPLETE THE FOLLOWING SECTION (5 points)                   #\n",
    "        #################################################################################\n",
    "        # define above mentioned model and needed variables\n",
    "        pass\n",
    "        #################################################################################\n",
    "\n",
    "    def calculate_past_classes_gradients(self):\n",
    "        #################################################################################\n",
    "        #                  COMPLETE THE FOLLOWING SECTION (10 points)                   #\n",
    "        #################################################################################\n",
    "        pass\n",
    "        #################################################################################\n",
    "\n",
    "    def calculate_current_task_gradients(self):\n",
    "        #################################################################################\n",
    "        #                  COMPLETE THE FOLLOWING SECTION (5 points)                    #\n",
    "        #################################################################################\n",
    "        pass\n",
    "        #################################################################################\n",
    "\n",
    "    def project_past_Classes_gradients(self):\n",
    "        #################################################################################\n",
    "        #                  COMPLETE THE FOLLOWING SECTION (15 points)                   #\n",
    "        #################################################################################\n",
    "        pass\n",
    "        #################################################################################\n",
    "\n",
    "\n",
    "    def update_memory(self):\n",
    "        #################################################################################\n",
    "        #                  COMPLETE THE FOLLOWING SECTION (5 points)                    #\n",
    "        #################################################################################\n",
    "        pass\n",
    "        #################################################################################\n",
    "\n",
    "    def forward(self):\n",
    "        pass"
   ]
  },
  {
   "cell_type": "code",
   "execution_count": null,
   "metadata": {
    "id": "cWLk0oSr6dlU"
   },
   "outputs": [],
   "source": [
    "#################################################################################\n",
    "#                  COMPLETE THE FOLLOWING SECTION (10 points)                   #\n",
    "#################################################################################\n",
    "# complete code for gem training\n",
    "# evaluate your model with test data by reporting\n",
    "# accuracy, backward transfer and forward transfer metric\n",
    "# for all tasks\n",
    "\n",
    "learner = GEM()\n",
    "\n",
    "for i in range(num_tasks):\n",
    "    pass\n",
    "\n",
    "\n",
    "\n",
    "\n",
    "\n",
    "\n",
    "#################################################################################"
   ]
  },
  {
   "cell_type": "markdown",
   "metadata": {
    "id": "Va8wXHAvoZtG"
   },
   "source": [
    "## Explain the results (10 points)"
   ]
  },
  {
   "cell_type": "markdown",
   "metadata": {
    "id": "QvDqXPXRoewA"
   },
   "source": [
    "Your Explain:"
   ]
  }
 ],
 "metadata": {
  "colab": {
   "collapsed_sections": [],
   "name": "GEM.ipynb",
   "provenance": [],
   "toc_visible": true
  },
  "kernelspec": {
   "display_name": "Python 3",
   "language": "python",
   "name": "python3"
  },
  "language_info": {
   "codemirror_mode": {
    "name": "ipython",
    "version": 3
   },
   "file_extension": ".py",
   "mimetype": "text/x-python",
   "name": "python",
   "nbconvert_exporter": "python",
   "pygments_lexer": "ipython3",
   "version": "3.9.12"
  }
 },
 "nbformat": 4,
 "nbformat_minor": 1
}
